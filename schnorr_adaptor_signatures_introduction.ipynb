{
 "cells": [
  {
   "cell_type": "code",
   "execution_count": null,
   "metadata": {},
   "outputs": [],
   "source": [
    "import sys\n",
    "sys.path.insert(0, './bitcoin-taproot/test/functional/')\n",
    "srcdir = \"./bitcoin-taproot/src/\" \n",
    "\n",
    "from test_framework.test_framework import BitcoinTestFramework\n",
    "from test_framework.key import *\n",
    "import binascii\n",
    "import hashlib\n",
    "import random\n",
    "\n",
    "# TODO: Add ExampleTest/setup_test/shutdown_test from utils.py"
   ]
  },
  {
   "cell_type": "markdown",
   "metadata": {},
   "source": [
    "# Adaptor Signatures\n",
    "\n",
    "![test](images/adaptor_intro_0.jpg)\n"
   ]
  },
  {
   "cell_type": "markdown",
   "metadata": {},
   "source": [
    "TODO: Description\n"
   ]
  },
  {
   "cell_type": "markdown",
   "metadata": {},
   "source": [
    "### 1)  Generate (Musig) Signatures"
   ]
  },
  {
   "cell_type": "code",
   "execution_count": null,
   "metadata": {},
   "outputs": [],
   "source": [
    "num_participants = random.randint(3,6)\n",
    "\n",
    "keys = []\n",
    "pubkeys = []\n",
    "for _ in range(num_participants):\n",
    "    private_key = ECKey()\n",
    "    private_key.generate()\n",
    "    public_key = private_key.get_pubkey()\n",
    "    keys.append((private_key, public_key))\n",
    "    pubkeys.append(public_key)\n",
    "\n",
    "c_map, pk_musig = generate_musig_key(pubkeys)\n",
    "\n",
    "# Public Key & Challenge Factors.\n",
    "keys_c = []\n",
    "for private, public in keys:\n",
    "    private_c = private.mul(c_map[public])\n",
    "    public_c = public.mul(c_map[public])\n",
    "    keys_c.append((private_c, public_c))\n",
    "\n",
    "# Nonce.\n",
    "nonce_map = {}\n",
    "nonce_points = []\n",
    "for private_c, public_c in keys_c:\n",
    "    nonce_map[public_c] = generate_schnorr_nonce()\n",
    "    nonce_points.append(nonce_map[public_c].get_pubkey())\n",
    "\n",
    "R_agg, negated = aggregate_schnorr_nonces(nonce_points)\n",
    "\n",
    "# Indivdiual Signatures.\n",
    "msg = hashlib.sha256(b'transaction').digest()\n",
    "sigs = []\n",
    "for private_c, public_c in keys_c:\n",
    "    signature = private_c.sign_musig(nonce_map[public_c], negated, R_agg, pk_musig, msg)\n",
    "    sigs.append(signature)\n",
    "    "
   ]
  },
  {
   "cell_type": "markdown",
   "metadata": {},
   "source": [
    "### 2) Adaptor Secret and Point."
   ]
  },
  {
   "cell_type": "code",
   "execution_count": null,
   "metadata": {},
   "outputs": [],
   "source": [
    "t = hashlib.sha256(b'adaptor tweak').digest()\n",
    "tk = ECKey()\n",
    "tk.set(t, True)\n",
    "Tk = tk.get_pubkey()\n"
   ]
  },
  {
   "cell_type": "markdown",
   "metadata": {},
   "source": [
    "### 3) Tweak a Signature to Create an Adaptor Sig"
   ]
  },
  {
   "cell_type": "code",
   "execution_count": null,
   "metadata": {},
   "outputs": [],
   "source": [
    "# Tweak a signature.\n",
    "i = random.randint(0, len(sigs)-1)\n",
    "sig = sigs[i]\n",
    "sig_adaptor = tweak_signature(sig, t)\n",
    "    "
   ]
  },
  {
   "cell_type": "markdown",
   "metadata": {},
   "source": [
    "### 4) Counterparty Verifies Adaptor Signature"
   ]
  },
  {
   "cell_type": "code",
   "execution_count": null,
   "metadata": {},
   "outputs": [],
   "source": [
    "private_c, public_c = keys_c[i]\n",
    "print(public_c.verify_adaptor(sig_adaptor, Tk, R_agg, pk_musig, msg))\n"
   ]
  },
  {
   "cell_type": "markdown",
   "metadata": {},
   "source": [
    "### 5) Counterparty recoveres Secret from Adaptor and Valid Signature."
   ]
  },
  {
   "cell_type": "code",
   "execution_count": null,
   "metadata": {},
   "outputs": [],
   "source": [
    "# Recover Secret\n",
    "t_recovered = get_adaptor_tweak(sig_adaptor, sig)\n",
    "print(t_recovered == t)\n"
   ]
  },
  {
   "cell_type": "markdown",
   "metadata": {},
   "source": [
    "### 6) Convert an adaptor to a valid signature with adaptor secret t."
   ]
  },
  {
   "cell_type": "code",
   "execution_count": null,
   "metadata": {},
   "outputs": [],
   "source": [
    "# R, s' -> R, s\n",
    "sig_recovered = tweak_signature(sig_adaptor,t,negate=True)\n",
    "print(sig_recovered == sig)\n"
   ]
  }
 ],
 "metadata": {
  "kernelspec": {
   "display_name": "Python 3",
   "language": "python",
   "name": "python3"
  },
  "language_info": {
   "codemirror_mode": {
    "name": "ipython",
    "version": 3
   },
   "file_extension": ".py",
   "mimetype": "text/x-python",
   "name": "python",
   "nbconvert_exporter": "python",
   "pygments_lexer": "ipython3",
   "version": "3.6.5"
  }
 },
 "nbformat": 4,
 "nbformat_minor": 2
}
