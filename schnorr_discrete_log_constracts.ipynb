{
 "cells": [
  {
   "cell_type": "code",
   "execution_count": 2,
   "metadata": {},
   "outputs": [],
   "source": [
    "import sys\n",
    "sys.path.insert(0, './bitcoin-taproot/test/functional/')\n",
    "srcdir = \"./bitcoin-taproot/src/\" \n",
    "\n",
    "from test_framework.test_framework import BitcoinTestFramework\n",
    "from test_framework.key import *\n",
    "import binascii\n",
    "import hashlib\n",
    "import random\n",
    "\n",
    "# TODO: Add ExampleTest/setup_test/shutdown_test from utils.py"
   ]
  },
  {
   "cell_type": "markdown",
   "metadata": {},
   "source": [
    "# Discrete Log Contracts\n",
    "\n",
    "TODO: Image"
   ]
  },
  {
   "cell_type": "markdown",
   "metadata": {},
   "source": [
    "TODO: Description\n"
   ]
  },
  {
   "cell_type": "markdown",
   "metadata": {},
   "source": [
    "### 1)  Construct oracle public keys"
   ]
  },
  {
   "cell_type": "code",
   "execution_count": 18,
   "metadata": {},
   "outputs": [],
   "source": [
    "# Create R, V for Oracle\n",
    "v = ECKey()\n",
    "v.generate()\n",
    "r = generate_schnorr_nonce()\n",
    "R = r.get_pubkey()\n",
    "V = v.get_pubkey()\n",
    "    "
   ]
  },
  {
   "cell_type": "markdown",
   "metadata": {},
   "source": [
    "### 2)  Contract participant keys"
   ]
  },
  {
   "cell_type": "code",
   "execution_count": 19,
   "metadata": {},
   "outputs": [],
   "source": [
    "# Create x and P for Alice\n",
    "x = ECKey()\n",
    "x.generate()\n",
    "P = x.get_pubkey()\n"
   ]
  },
  {
   "cell_type": "markdown",
   "metadata": {},
   "source": [
    "### 3) Contract participants generate S points for possible outcomes."
   ]
  },
  {
   "cell_type": "code",
   "execution_count": 20,
   "metadata": {},
   "outputs": [],
   "source": [
    "# S = R + H(R_x|V|m)V (I can compute S before msg is known.)\n",
    "msg0 = hashlib.sha256(b'outcome0').digest()\n",
    "msg1 = hashlib.sha256(b'outcome1').digest()\n",
    "msg2 = hashlib.sha256(b'outcome2').digest()\n",
    "\n",
    "# Generate Contract Public Keys\n",
    "P_dlc0 = P.generate_dlc(msg0, V, R)    \n",
    "P_dlc1 = P.generate_dlc(msg1, V, R)    \n",
    "P_dlc2 = P.generate_dlc(msg2, V, R)    \n"
   ]
  },
  {
   "cell_type": "markdown",
   "metadata": {},
   "source": [
    "### 4) Contract participants generate S points for possible outcomes."
   ]
  },
  {
   "cell_type": "code",
   "execution_count": 21,
   "metadata": {},
   "outputs": [
    {
     "name": "stdout",
     "output_type": "stream",
     "text": [
      "True\n"
     ]
    }
   ],
   "source": [
    "# Oracle signs msg 1 with pre-determined nonce.\n",
    "sig1 = v.sign_schnorr_with_nonce(msg1, r)\n",
    "s1 = sig1[32:]\n",
    "\n",
    "# Participants can now sign the contract public key corresponding to msg 1.\n",
    "x_s1 = x.add(s1) \n",
    "print(x_s1.get_pubkey().get_bytes() == P_dlc1.get_bytes())\n"
   ]
  }
 ],
 "metadata": {
  "kernelspec": {
   "display_name": "Python 3",
   "language": "python",
   "name": "python3"
  },
  "language_info": {
   "codemirror_mode": {
    "name": "ipython",
    "version": 3
   },
   "file_extension": ".py",
   "mimetype": "text/x-python",
   "name": "python",
   "nbconvert_exporter": "python",
   "pygments_lexer": "ipython3",
   "version": "3.6.5"
  }
 },
 "nbformat": 4,
 "nbformat_minor": 2
}
