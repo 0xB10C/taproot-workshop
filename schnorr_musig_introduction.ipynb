{
 "cells": [
  {
   "cell_type": "code",
   "execution_count": null,
   "metadata": {},
   "outputs": [],
   "source": [
    "import sys\n",
    "sys.path.insert(0, './bitcoin-taproot/test/functional/')\n",
    "srcdir = \"./bitcoin-taproot/src/\" \n",
    "\n",
    "from test_framework.test_framework import BitcoinTestFramework\n",
    "from test_framework.key import *\n",
    "import binascii\n",
    "import hashlib\n",
    "\n",
    "# TODO: Add ExampleTest/setup_test/shutdown_test from utils.py"
   ]
  },
  {
   "cell_type": "markdown",
   "metadata": {},
   "source": [
    "# N-of-N Musig\n",
    "\n",
    "![test](images/musig_intro_0.jpg)\n"
   ]
  },
  {
   "cell_type": "markdown",
   "metadata": {},
   "source": [
    "In this chapter, we introduce the interactive musig protocol which allows n-of-n participants to jointly create and spend taproot or tapscript output using aggregated Schnorr signatures. The advantage of Musig is that the public key and joint N-of-N spend are indistinguishable from a regular transaction on-chain. \n",
    "\n",
    "However, this is an interactive protocol which requires multiple rounds of communication between the wallets. We will proceed with an example execution of the Musig protocol below."
   ]
  },
  {
   "cell_type": "markdown",
   "metadata": {},
   "source": [
    "## Round 1 - Pubkey Generation\n",
    "\n",
    "![test](images/musig_intro_1.jpg)"
   ]
  },
  {
   "cell_type": "markdown",
   "metadata": {},
   "source": [
    "### 1) Key Generation & Pubkey Exchange"
   ]
  },
  {
   "cell_type": "code",
   "execution_count": null,
   "metadata": {},
   "outputs": [],
   "source": [
    "keys = []\n",
    "pubkeys = []\n",
    "\n",
    "for i in range(3):\n",
    "    private_key = ECKey()\n",
    "    private_key.generate()\n",
    "    public_key = private_key.get_pubkey()\n",
    "    keys.append((private_key, public_key))\n",
    "    # Pubkeys are shared amongst participating wallets.\n",
    "    pubkeys.append(public_key)\n",
    "    "
   ]
  },
  {
   "cell_type": "markdown",
   "metadata": {},
   "source": [
    "### 2) Compute Key Challenges"
   ]
  },
  {
   "cell_type": "code",
   "execution_count": null,
   "metadata": {},
   "outputs": [],
   "source": [
    "c_map, pk_musig = generate_musig_key(pubkeys)\n",
    "\n",
    "# c_map is a map which contains challenge factors for each original public key.\n",
    "for pk, c in c_map.items():\n",
    "    print(\"Compressed Pubkey: \", pk.get_bytes().hex())\n",
    "    print(\"Challenge: \", c.hex(), '\\n')\n",
    "    "
   ]
  },
  {
   "cell_type": "markdown",
   "metadata": {},
   "source": [
    "### 3 - 4) Multiplication of Keys/Challenge and Aggregation of Public Keys"
   ]
  },
  {
   "cell_type": "code",
   "execution_count": null,
   "metadata": {},
   "outputs": [],
   "source": [
    "keys_c = []\n",
    "for idx, (private, public) in enumerate(keys):\n",
    "    # All keys are now adjusted by the challenge factor\n",
    "    private_c = private.mul(c_map[public])\n",
    "    public_c = public.mul(c_map[public])\n",
    "    keys_c.append((private_c, public_c))\n",
    "    "
   ]
  },
  {
   "cell_type": "markdown",
   "metadata": {},
   "source": [
    "## Round 2 - Signing & Nonce Aggregation\n",
    "\n",
    "![test](images/musig_intro_2.jpg)"
   ]
  },
  {
   "cell_type": "markdown",
   "metadata": {},
   "source": [
    "### 1) Individual (Secret) Nonce Generation"
   ]
  },
  {
   "cell_type": "code",
   "execution_count": null,
   "metadata": {},
   "outputs": [],
   "source": [
    "nonce_map = {} # Pubkey: Nonce\n",
    "nonce_points = []\n",
    "for idx, (private_c, public_c) in enumerate(keys_c):\n",
    "    nonce_map[public_c] = generate_schnorr_nonce()\n",
    "    nonce_points.append(nonce_map[public_c].get_pubkey())\n",
    "    print(\"Nonce %d: %s\" %(idx, nonce_map[public_c].get_bytes().hex()))\n",
    "    "
   ]
  },
  {
   "cell_type": "markdown",
   "metadata": {},
   "source": [
    "### 2) Exchange & Aggreation of Nonce Points"
   ]
  },
  {
   "cell_type": "code",
   "execution_count": null,
   "metadata": {},
   "outputs": [],
   "source": [
    "R_agg, negated = aggregate_schnorr_nonces(nonce_points)\n",
    "print(\"R aggregated: \", R_agg.get_bytes().hex())\n",
    "print(\"R_agg was negated: \", negated)\n"
   ]
  },
  {
   "cell_type": "markdown",
   "metadata": {},
   "source": [
    "### 3) Negation of Individual Nonces\n",
    "\n",
    "The negation boolean is important information for the signing round. If the aggregated nonce was negated, the individual nonces need to be negated as well during individual signing."
   ]
  },
  {
   "cell_type": "markdown",
   "metadata": {},
   "source": [
    "## Round 3 - Signing & Signature Aggregation\n",
    "\n",
    "![test](images/musig_intro_3.jpg)"
   ]
  },
  {
   "cell_type": "markdown",
   "metadata": {},
   "source": [
    "### 1) Individual Signing"
   ]
  },
  {
   "cell_type": "code",
   "execution_count": null,
   "metadata": {},
   "outputs": [],
   "source": [
    "# TODO: Sign tx sighash and test mempool acceptance.\n",
    "msg = hashlib.sha256(b'transaction').digest()\n",
    "sigs = []\n",
    "for private_c, public_c in keys_c:\n",
    "    signature = private_c.sign_musig(nonce_map[public_c], negated, R_agg, pk_musig, msg)\n",
    "    sigs.append(signature)\n"
   ]
  },
  {
   "cell_type": "markdown",
   "metadata": {},
   "source": [
    "### 2) Signature Aggregation"
   ]
  },
  {
   "cell_type": "code",
   "execution_count": null,
   "metadata": {},
   "outputs": [],
   "source": [
    "sig_agg = aggregate_musig_signatures(sigs)\n",
    "print(pk_musig.verify_schnorr(sig_agg, msg))\n"
   ]
  }
 ],
 "metadata": {
  "kernelspec": {
   "display_name": "Python 3",
   "language": "python",
   "name": "python3"
  },
  "language_info": {
   "codemirror_mode": {
    "name": "ipython",
    "version": 3
   },
   "file_extension": ".py",
   "mimetype": "text/x-python",
   "name": "python",
   "nbconvert_exporter": "python",
   "pygments_lexer": "ipython3",
   "version": "3.6.5"
  }
 },
 "nbformat": 4,
 "nbformat_minor": 2
}
