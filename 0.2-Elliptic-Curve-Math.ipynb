{
 "cells": [
  {
   "cell_type": "code",
   "execution_count": null,
   "metadata": {},
   "outputs": [],
   "source": [
    "import random\n",
    "\n",
    "import util\n",
    "from test_framework.key import SECP256K1_ORDER, SECP256K1_FIELD_SIZE, ECKey, ECPubKey"
   ]
  },
  {
   "cell_type": "markdown",
   "metadata": {},
   "source": [
    "# 0.2 Elliptic Curve Math (Review)\n"
   ]
  },
  {
   "cell_type": "markdown",
   "metadata": {},
   "source": [
    "Elliptic Curve math involves scalars and Points (x, y). \n",
    "\n",
    "The following provides an overview of all operations of scalars and points over elliptic curves. In Bitcoin, key pair generation and signing is performed over the SECP256k1 curve.\n",
    "\n",
    "![test](images/ec_math0.jpg)\n"
   ]
  },
  {
   "cell_type": "markdown",
   "metadata": {},
   "source": [
    "### Classes / Methods for Elliptic Curve Math\n",
    "\n",
    "`int`: All Scalar operations over SECP251k1 can be performed with python integers and the modulo `%` operator. \n",
    "\n",
    "Scalar addition, subtraction, multiplication and division over SECP256k1 are modulo a large prime number SECP256K1_ORDER. \n",
    "\n",
    "\n",
    "* All scalar operations are performed modulo n (`SECP256K1_ORDER`).\n",
    "* Addition: `a + b % SECP256K1_ORDER`\n",
    "* Subtraction: `-a = SECP256K1_ORDER - a`\n",
    "* Multiplication: `a * b % SECP256K1_ORDER`\n",
    "* Division (Fermat's little Theorem): `1/b = b ** (SECP256K1_ORDER-2) % SECP256K1_ORDER`\n",
    "\n",
    "`ECKey`: The Bitcoin Core library provides a private key class which can also perform certain scalar operations.\n",
    "* Addition: `add`\n",
    "* Subtraction: `add` (adding complement of scalar)\n",
    "* Multiplication: `mul`\n",
    "* Division: `mul` (multiplying with scalar inverse, see Fermat's little theorem) \n",
    "\n",
    "![test](images/ec_math1.jpg)"
   ]
  },
  {
   "cell_type": "markdown",
   "metadata": {},
   "source": [
    "#### 1.1 Example: Scalar Addition over SECP256K1 order\n",
    "\n",
    "Addition can be performed with integer modulo math in python or with the private key class `ECKey`. We can set a `ECKey` object to a certain value, or generate a new private key with the `generate` method.\n",
    "\n",
    "In the example below, addition is performed with both integers and the `ECKey` class, and evaluated for equality."
   ]
  },
  {
   "cell_type": "code",
   "execution_count": null,
   "metadata": {},
   "outputs": [],
   "source": [
    "# int() operations\n",
    "a = random.randrange(1, SECP256K1_ORDER)\n",
    "b = random.randrange(1, SECP256K1_ORDER)\n",
    "ab = (a + b) % SECP256K1_ORDER\n",
    "\n",
    "# ECkey(operation)\n",
    "a_key = ECKey()\n",
    "a_key.set(a.to_bytes(32,'big'), True) \n",
    "ab_key = a_key.add(b.to_bytes(32,'big'))\n",
    "\n",
    "# Ensure equivalency.\n",
    "print(int().from_bytes(ab_key.get_bytes(),'big') == ab)\n"
   ]
  },
  {
   "cell_type": "markdown",
   "metadata": {},
   "source": [
    "#### 1.2 Example: Scalar Multiplication over SECP256k1 order\n",
    "\n",
    "In the example below, multiplication is performed with both integers and the `ECKey` class, and evaluated for equality."
   ]
  },
  {
   "cell_type": "code",
   "execution_count": null,
   "metadata": {},
   "outputs": [],
   "source": [
    "# int() operations\n",
    "a = random.randrange(1, SECP256K1_ORDER)\n",
    "b = random.randrange(1, SECP256K1_ORDER)\n",
    "ab = (a * b) % SECP256K1_ORDER\n",
    "\n",
    "# ECkey(operation)\n",
    "a_key = ECKey()\n",
    "a_key.set(a.to_bytes(32,'big'), True) \n",
    "ab_key = a_key.mul(b.to_bytes(32,'big'))\n",
    "\n",
    "# Ensure operations are equivalent.\n",
    "print(int().from_bytes(ab_key.get_bytes(),'big') == ab)\n"
   ]
  },
  {
   "cell_type": "markdown",
   "metadata": {},
   "source": [
    "#### 1.3 _Programming Exercise:_ Distributivity of scalar operations\n",
    "\n",
    "In this exercise we wish to demonstrate the distributivity property of scalar addition and multiplication, whilst getting familiarized with both integer modulo operations and the private key `ECKey` methods.\n",
    "\n",
    "Consider: `(a - b) * c = a * c - b * c` over SECP256k1\n",
    "* Demonstrate that the equation holds\n",
    "* Compute the left side with the Python `int` class.\n",
    "* Compute the right side with the Bitcoin Core `ECKey` class.\n"
   ]
  },
  {
   "cell_type": "code",
   "execution_count": null,
   "metadata": {},
   "outputs": [],
   "source": [
    "a = random.randrange(1, SECP256K1_ORDER)\n",
    "b = random.randrange(1, SECP256K1_ORDER)\n",
    "c = random.randrange(1, SECP256K1_ORDER)\n",
    "\n",
    "# Left: Compute (a - b) * c\n",
    "\n",
    "\n",
    "# Right: Compute -b * c\n",
    "# See \"Classes / Methods for Elliptic Curve Math\" on how to negate scalar.\n",
    "\n",
    "# Right: Compute a * c\n",
    "\n",
    "\n",
    "# Right: Compute a * c - b * c\n",
    "\n",
    "\n",
    "# Left/Right: Assert equality\n",
    "# print(left_integer.to_bytes(32,'big') == right_ECKey.get_bytes())\n"
   ]
  },
  {
   "cell_type": "markdown",
   "metadata": {},
   "source": [
    "#### 1.4 Example: Point Addition over SECP256k1\n",
    "\n",
    "The public key `ECPubkey` class can be derived from `ECKey` with the `ECKey.get_pubkey` method. \n",
    "\n",
    "In the following example, we perform point addition with `ECPubkey.add`.\n"
   ]
  },
  {
   "cell_type": "code",
   "execution_count": null,
   "metadata": {},
   "outputs": [],
   "source": [
    "a_key = ECKey()\n",
    "b_key = ECKey()\n",
    "a_key.generate()\n",
    "b_key.generate()\n",
    "\n",
    "A_key = a_key.get_pubkey()\n",
    "B_key = b_key.get_pubkey()\n",
    "AB_key = A_key.add(B_key)\n",
    "\n",
    "print(AB_key.get_bytes().hex())"
   ]
  },
  {
   "cell_type": "markdown",
   "metadata": {},
   "source": [
    "#### 1.5  _Programming Exercise:_ Distributivity over scalar and ec points.\n",
    "\n",
    "In this exercise we wish to demonstrate the distributivity property of scalar/point operations, whilst getting familiarized with both integer modulo operations and the public key `ECPubKey` methods.\n",
    "\n",
    "**Reminder:** A public key is a scalar multiplied with the SECP256k1 generator point G.\n",
    "\n",
    "Consider: `(a - b) * P = a * G - b * G`\n"
   ]
  },
  {
   "cell_type": "code",
   "execution_count": null,
   "metadata": {},
   "outputs": [],
   "source": [
    "a = random.randrange(1, SECP256K1_ORDER)\n",
    "b = random.randrange(1, SECP256K1_ORDER)\n",
    "\n",
    "# Left: Compute a - b\n",
    "\n",
    "\n",
    "# Left: Compute (a - b) * G\n",
    "\n",
    "\n",
    "# Right: Compute aG\n",
    "\n",
    "\n",
    "# Right: Compute -bG\n",
    "\n",
    "\n",
    "# Right: Compute aG - bG\n",
    "\n",
    "\n",
    "# Left/Right: Assert equality\n",
    "# print(Pk_left.get_bytes() == Pk_right.get_bytes())\n",
    "\n"
   ]
  }
 ],
 "metadata": {
  "kernelspec": {
   "display_name": "Python 3",
   "language": "python",
   "name": "python3"
  },
  "language_info": {
   "codemirror_mode": {
    "name": "ipython",
    "version": 3
   },
   "file_extension": ".py",
   "mimetype": "text/x-python",
   "name": "python",
   "nbconvert_exporter": "python",
   "pygments_lexer": "ipython3",
   "version": "3.6.5"
  }
 },
 "nbformat": 4,
 "nbformat_minor": 2
}
