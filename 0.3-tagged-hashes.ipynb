{
 "cells": [
  {
   "cell_type": "code",
   "execution_count": 5,
   "metadata": {},
   "outputs": [],
   "source": [
    "import hashlib"
   ]
  },
  {
   "cell_type": "markdown",
   "metadata": {},
   "source": [
    "# 0.3 Tagged Hashes\n",
    "\n",
    "Tagged Hashes are cryptographic hash functions that are used throughout the schnorr/taproot specifications. Their purpose is to make sure that hashes used in one context can't be used in another context. This avoids issues like [CVE-2012-2459](https://en.bitcoin.it/wiki/Common_Vulnerabilities_and_Exposures#CVE-2012-2459).\n",
    "\n",
    "[BIP-schnorr](https://github.com/sipa/bips/blob/bip-schnorr/bip-schnorr.mediawiki) outlines an example concern:\n",
    "\n",
    "> For example, without tagged hashing, a bip-schnorr signature could also be valid for a signature scheme where the only difference is that the arguments to the hash function are reordered. Worse, if the bip-schnorr nonce derivation function was copied or independently created, then the nonce could be accidentally reused in the other scheme leaking the secret key.\n",
    "\n",
    "Tagged hash functions are tweaked with a tag name that is dependent on the context. For schnorr and taproot the scheme involves prefixing the data-to-be-hashed with `SHA256(TagName) || SHA256(TagName)`:\n",
    "\n",
    "**`tagged_hash(\"TagName\")`** = `sha256(sha256(\"TagName\") + sha256(\"TagName\") + data)`\n",
    "\n",
    "The prefixed, context-dependent tag data lessens, but does not rule out, the feasibility of a hash collision.\n",
    "\n",
    "The proposal suggests to hash the tag twice because:\n",
    "\n",
    "> this is a 64-byte long context-specific constant and the SHA256 block size is also 64 bytes, optimized implementations are possible (identical to SHA256 itself, but with a modified initial state). Using SHA256 of the tag name itself is reasonably simple and efficient for implementations that don't choose to use the optimization.\n",
    "\n",
    "The following code is an implementation of the `tagged_hash` function in python."
   ]
  },
  {
   "cell_type": "code",
   "execution_count": 10,
   "metadata": {},
   "outputs": [
    {
     "name": "stdout",
     "output_type": "stream",
     "text": [
      "0966a0c836c19e0d3bf22d6cf111186c00a2a42b8f39cea523692d80623a5c2f\n"
     ]
    }
   ],
   "source": [
    "def tagged_hash(tag, input_data):\n",
    "    data = hashlib.sha256(tag.encode('utf-8')).digest()\n",
    "    data += data\n",
    "    data += input_data\n",
    "    return hashlib.sha256(data).digest()\n",
    "\n",
    "print(tagged_hash(\"SampleTagName\", b'Input data as bytes').hex())"
   ]
  }
 ],
 "metadata": {
  "kernelspec": {
   "display_name": "Python 3",
   "language": "python",
   "name": "python3"
  },
  "language_info": {
   "codemirror_mode": {
    "name": "ipython",
    "version": 3
   },
   "file_extension": ".py",
   "mimetype": "text/x-python",
   "name": "python",
   "nbconvert_exporter": "python",
   "pygments_lexer": "ipython3",
   "version": "3.6.5"
  }
 },
 "nbformat": 4,
 "nbformat_minor": 2
}
