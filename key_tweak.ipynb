{
 "cells": [
  {
   "cell_type": "code",
   "execution_count": null,
   "metadata": {},
   "outputs": [],
   "source": [
    "# Add Path to Bitcoin Core Testframework Library.\n",
    "import sys\n",
    "sys.path.insert(0, '/Users/jamesc/Dropbox/repos/bitcoin_sipa/test/functional')"
   ]
  },
  {
   "cell_type": "markdown",
   "metadata": {},
   "source": [
    "# 2. TapTweak\n",
    "\n",
    "* 2.1 Tweaking the Public Key\n",
    "* 2.2 Commitment Schemes with Tweaks\n",
    "* 2.3 Script Commitments\n",
    "\n",
    "\n",
    "## 2.1 Tweaking the Public Key\n",
    "\n",
    "The script commitment scheme of taproot is based on tweaking the public key in the `Segwit version 1 output`. Tweaking a public key means to alter it with a value (the tweak) so that it remains spendable with knowledge of the original private key and tweak. Very importantly, an observer cannot distinguish between a tweaked and untweaked public key.\n",
    "\n",
    "Tweaking can be easily achieved with the additive and multiplicative elliptic curve math operations.\n",
    "\n",
    "![test](images/taptweak0.jpg)\n"
   ]
  },
  {
   "cell_type": "markdown",
   "metadata": {},
   "source": [
    "### Example 2.1.1 : Additive Tweak - Signing with a tweaked keypair\n",
    "\n",
    "* 1. Key pair generation: `xG = P`\n",
    "* 2. A tweak is positive scalar value < curve order: `t < SECP256K1 Order` \n",
    "* 3. A tweak has a corresponding point: `T = t*G`\n",
    "* 4. A private key is tweaked by the tweak scalar: `x' = x + t`\n",
    "* 5. The public key can be tweaked by the tweak point: `P' = P + T`\n",
    "* 6. Verify that signature with tweaked key pair is valid."
   ]
  },
  {
   "cell_type": "code",
   "execution_count": null,
   "metadata": {},
   "outputs": [],
   "source": [
    "from test_framework.key import ECKey, ECPubKey\n",
    "import hashlib\n",
    "\n",
    "# 1) \n",
    "privatekey = ECKey()\n",
    "privatekey.generate()\n",
    "publickey = privatekey.get_pubkey()\n",
    "\n",
    "# 2) \n",
    "tweak = hashlib.sha256(b'tweak').digest()\n",
    "\n",
    "# 3) \n",
    "tweak_private = ECKey()\n",
    "tweak_private.set(tweak, True)\n",
    "tweak_point = tweak_private.get_pubkey()\n",
    "\n",
    "# 4) \n",
    "privatekey_tweaked = privatekey.add(tweak)\n",
    "\n",
    "# 5)\n",
    "publickey_tweaked = publickey.add(tweak_point)\n",
    "\n",
    "# 6)\n",
    "msg = hashlib.sha256(b'msg').digest()\n",
    "sig = privatekey_tweaked.sign_schnorr(msg)\n",
    "print(publickey_tweaked.verify_schnorr(sig, msg))"
   ]
  },
  {
   "cell_type": "markdown",
   "metadata": {},
   "source": [
    "### Example 2.1.2: Additive Tweak - Signing with a tweaked Musig keys\n",
    "\n",
    "* 1. Key pair generation for all participants: `xG = P`\n",
    "* 2. Aggregate all public keys: `pk_musig`\n",
    "* 3. Apply challenge factors to all private keys: `x' = c * x`\n",
    "* 4. Tweak the `pk_musig`.\n",
    "* 5. Signing -  Generate indidividual nonces & aggregate: `R_agg`\n",
    "* 6. Signing - Sign individually & aggregate: `sig_agg`\n",
    "    * **One signer must sign with tweaked key.**"
   ]
  },
  {
   "cell_type": "code",
   "execution_count": null,
   "metadata": {},
   "outputs": [],
   "source": [
    "from test_framework.key import ECKey, ECPubKey\n",
    "from test_framework.key import generate_musig_key\n",
    "from test_framework.key import generate_schnorr_nonce, aggregate_schnorr_nonces\n",
    "from test_framework.key import aggregate_musig_signatures\n",
    "\n",
    "import random\n",
    "\n",
    "# 1) \n",
    "keys = []\n",
    "pubkeys = []\n",
    "for _ in range(5):\n",
    "    private_key = ECKey()\n",
    "    private_key.generate()\n",
    "    public_key = private_key.get_pubkey()\n",
    "    keys.append((private_key, public_key))\n",
    "    pubkeys.append(public_key)\n",
    "    \n",
    "# 2) \n",
    "c_map, pk_musig = generate_musig_key(pubkeys)\n",
    "\n",
    "# 3) \n",
    "keys_c = []\n",
    "for private, public in keys:\n",
    "    private_c = private.mul(c_map[public])\n",
    "    public_c = public.mul(c_map[public])\n",
    "    keys_c.append((private_c, public_c))\n",
    "    \n",
    "# 4)\n",
    "tweak = hashlib.sha256(b'tweak').digest()\n",
    "pk_musig_tweaked = pk_musig.tweak_add(tweak)\n",
    "\n",
    "# 5) \n",
    "nonce_map = {}\n",
    "nonce_points = []\n",
    "for private_c, public_c in keys_c:\n",
    "    nonce_map[public_c] = generate_schnorr_nonce()\n",
    "    nonce_points.append(nonce_map[public_c].get_pubkey())\n",
    "R_agg, negated = aggregate_schnorr_nonces(nonce_points)\n",
    "\n",
    "# 6) \n",
    "msg = hashlib.sha256(b'msg').digest()\n",
    "sigs = []\n",
    "for idx, (private_c, public_c) in enumerate(keys_c):\n",
    "    # One person must tweak keys.\n",
    "    private_c = private_c.add(tweak) if idx == 0 else private_c # One person must tweak secret.\n",
    "    signature = private_c.sign_musig(nonce_map[public_c], negated, R_agg, pk_musig_tweaked, msg)\n",
    "    sigs.append(signature)\n",
    "sig_agg = aggregate_musig_signatures(sigs)\n",
    "\n",
    "pk_musig_tweaked.verify_schnorr(sig_agg, msg)\n"
   ]
  },
  {
   "cell_type": "markdown",
   "metadata": {},
   "source": [
    "## 2.2 Commitment Schemes with Tweaks\n",
    "\n",
    "Taproot uses the tweak as a commitment for spending script paths. However, simply applying the committed value as a public key tweak is not sufficient: For a given public key point Q with a known discrete log, the untweaked private key can always be solved for given a tweak of any value. \n",
    "\n",
    "\n",
    "Instead, the committed value must first be hashed with the untweaked public key point. This prevents modification of both untweaked secret and tweak for a given pubkey point Q.\n",
    "\n",
    "![test](images/taptweak1.jpg)\n",
    "\n"
   ]
  },
  {
   "cell_type": "markdown",
   "metadata": {},
   "source": [
    "### Example 2.2.1 : Modify the Tweak/Secret for a given tweaked Public Key Q.\n",
    "\n",
    "* 1. Tweaking the public key to obtain: `Point Q`\n",
    "* 2. Create a new tweak for the same point Q: `t'`\n",
    "* 3. Solve for `x'` so that `x'G + t'G = Q`"
   ]
  },
  {
   "cell_type": "code",
   "execution_count": null,
   "metadata": {},
   "outputs": [],
   "source": [
    "from test_framework.key import ECKey, ECPubKey, SECP256K1_ORDER\n",
    "\n",
    "# 1)\n",
    "x = ECKey()\n",
    "x.generate()\n",
    "pk = x.get_pubkey()\n",
    "t = hashlib.sha256(b'tweak').digest()\n",
    "t_int = int.from_bytes(t, \"big\")\n",
    "Q = pk.tweak_add(t)\n",
    "\n",
    "# 2)\n",
    "t2 = hashlib.sha256(b'tweak2').digest()\n",
    "t2_int = int.from_bytes(t2, \"big\")\n",
    "\n",
    "# 3) x` = x - (t' - t)\n",
    "x_int = int.from_bytes(x.get_bytes(),\"big\")\n",
    "s = (t2_int + (SECP256K1_ORDER - t_int)% SECP256K1_ORDER) % SECP256K1_ORDER\n",
    "x2_int = (x_int + (SECP256K1_ORDER - s)% SECP256K1_ORDER) % SECP256K1_ORDER\n",
    "\n",
    "print((x2_int + t2_int)% SECP256K1_ORDER == (x_int + t_int)% SECP256K1_ORDER)"
   ]
  },
  {
   "cell_type": "markdown",
   "metadata": {},
   "source": [
    "### Example 2.2.2 - Tweaking Pubkey with `H(P|msg)`\n",
    "\n",
    "* 1. Key pair generation: \n",
    "* 2. **A tweak is hash of both t and P: `H(P|msg) = t`**\n",
    "* 3. A tweak has a corresponding point: `T = t*G`\n",
    "* 4. A private key is tweaked by the tweak scalar: `x' = x + t`\n",
    "* 5. The public key can be tweaked by the tweak point: `P' = P + T`\n",
    "* 6. Verify that signature with tweaked key pair is valid."
   ]
  },
  {
   "cell_type": "code",
   "execution_count": null,
   "metadata": {},
   "outputs": [],
   "source": [
    "from test_framework.key import ECKey, ECPubKey\n",
    "import hashlib\n",
    "\n",
    "# 1) \n",
    "privatekey = ECKey()\n",
    "privatekey.generate()\n",
    "publickey = privatekey.get_pubkey()\n",
    "\n",
    "# 2) \n",
    "# Note: Taproot/Taptweak actualy uses tagged hashes (See Below).\n",
    "tag = \"TapTweak\"\n",
    "ss = hashlib.sha256(tag.encode('utf-8')).digest()\n",
    "ss += ss\n",
    "ss += hashlib.sha256(b'commitment').digest()\n",
    "t = hashlib.sha256(ss).digest()\n",
    "\n",
    "# 3) \n",
    "tweak_private = ECKey()\n",
    "tweak_private.set(tweak, True)\n",
    "tweak_point = tweak_private.get_pubkey()\n",
    "\n",
    "# 4) \n",
    "privatekey_tweaked = privatekey.add(tweak)\n",
    "\n",
    "# 5)\n",
    "publickey_tweaked = publickey.add(tweak_point)\n",
    "\n",
    "# 6)\n",
    "msg = hashlib.sha256(b'msg').digest()\n",
    "sig = privatekey_tweaked.sign_schnorr(msg)\n",
    "print(publickey_tweaked.verify_schnorr(sig, msg))"
   ]
  },
  {
   "cell_type": "markdown",
   "metadata": {},
   "source": [
    "**Note: Tagged Hash in TapTweak**\n",
    "\n",
    "The Taproot Proposal describes tagged hashes for both the taptree and taptweak. \n",
    "\n",
    "The TapTweak uses this double nested hashing function because it already used in TapBranches and TapLeafs, where it provides context uniqueness across the Bitcoin protocol and the 64B length lends itself to optimization in implementations. \n",
    "\n",
    "* **`t = sha256(sha256(\"TapTweak\") + sha256(\"TapTweak\") + commitment)`**"
   ]
  },
  {
   "cell_type": "markdown",
   "metadata": {},
   "source": [
    "## 2.3 TapTweak Script Commitments\n",
    "\n",
    "The TapTweak commits a Taptree to the segwit version 1 public key. It does so with a familiar merkle tree construction, where the root is taggedhashed to derive TapTweak.\n",
    "\n",
    "However, please note that the taptree has several key improvements which solve the tree height ambiguity currently found in the transaction merkle tree, which allow an attacker to create a tree node which can be interpreted as both a leaf and internal node.\n",
    "\n",
    "![test](images/taptweak2.jpg)"
   ]
  },
  {
   "cell_type": "markdown",
   "metadata": {},
   "source": [
    "**The TapTree is different than the header merkle tree in the following ways:**\n",
    "\n",
    "* Tapleafs can be located at different heights.\n",
    "* Ordering of TapLeafs is determined lexicograpically.\n",
    "* Location of nodes are tagged (No ambiguity of node height).\n",
    "    * Taggedhashes of internal nodes have the tag `\"TapBranch\"`.\n",
    "    * Taggedhashes of leaf nodes have the tag `\"TapLeaf\"`.\n",
    "    * Taggedhash of the merkle root has the tag `\"TapTweak\"`.\n",
    " \n",
    "![test](images/taptweak3.jpg)\n"
   ]
  },
  {
   "cell_type": "markdown",
   "metadata": {},
   "source": [
    "### Example 2.3.1: Constructing a TapTweak from TapScripts.\n",
    "\n",
    "In the cell below, we will commit three pay-to-pubkey scripts to a taptweak and then derive the segwit address which can be spent by fulfilling these scriptpaths and the internal. We will use the same merkle tree structure as in the previous illustration.\n",
    "\n",
    "* 1. Compute TapLeafs A, B and C.\n",
    "* 2. Compute Internal node TapBranch AB.\n",
    "* 3. Compute TapTweak\n",
    "* 4. Derive the segwit output address."
   ]
  },
  {
   "cell_type": "code",
   "execution_count": null,
   "metadata": {},
   "outputs": [],
   "source": [
    "from test_framework.key import ECKey, ECPubKey\n",
    "from test_framework.script import TapLeaf\n",
    "from test_framework.messages import ser_string\n",
    "from test_framework.address import program_to_witness\n",
    "import hashlib\n",
    "\n",
    "TAPSCRIPT_VER = bytes([0xc0]) # See TapScript chapter for more details.\n",
    "internal_pubkey = ECPubKey()\n",
    "internal_pubkey.set(bytes.fromhex('03af455f4989d122e9185f8c351dbaecd13adca3eef8a9d38ef8ffed6867e342e3'))\n",
    "\n",
    "# Pay-to-Pubkey Output Scripts. See TapScript chapter for more details.\n",
    "scriptA = bytes.fromhex('2103ae2011ef6f77373794a9e962c883228a6b4c0ece914a44bf43175cf054992255ac')\n",
    "scriptB = bytes.fromhex('21020cd4f4c7eda281ef2e9d383e987365c843a9a5f55b49ea4252378d9430596563ac')\n",
    "scriptC = bytes.fromhex('21039f10b25a8d0940abda464934c374c3a02c3355a770bffef0d2d380e0cddb045dac')\n",
    "\n",
    "def tagged_hash(tag, input_data):\n",
    "    data = hashlib.sha256(tag.encode('utf-8')).digest()\n",
    "    data += data\n",
    "    data += input_data\n",
    "    return hashlib.sha256(data).digest()\n",
    "\n",
    "def tapbranch(taggedhash_left, taggedhash_right):\n",
    "    if taggedhash_left > taggedhash_right:\n",
    "        taggedhash_left, taggedhash_right = taggedhash_right, taggedhash_left\n",
    "    return tagged_hash(\"TapBranch\", taggedhash_left + taggedhash_right)  \n",
    "\n",
    "\n",
    "# 1) Compute TapLeafs A, B and C.\n",
    "# Note: ser_string(data) is a function which adds compactsize to input data.\n",
    "hash_inputA = TAPSCRIPT_VER + ser_string(scriptA)\n",
    "hash_inputB = TAPSCRIPT_VER + ser_string(scriptB)\n",
    "hash_inputC = TAPSCRIPT_VER + ser_string(scriptC)\n",
    "taggedhash_leafA = tagged_hash(\"TapLeaf\", hash_inputA)\n",
    "taggedhash_leafB = tagged_hash(\"TapLeaf\", hash_inputB)\n",
    "taggedhash_leafC = tagged_hash(\"TapLeaf\", hash_inputC)\n",
    "\n",
    "# 2) Compute Internal node TapBranch AB.\n",
    "internal_nodeAB = tapbranch(taggedhash_leafA, taggedhash_leafB)\n",
    "\n",
    "# 3) Compute TapTweak.\n",
    "rootABC = tapbranch(internal_nodeAB, taggedhash_leafC)\n",
    "taptweak = tagged_hash(\"TapTweak\", internal_pubkey.get_bytes() + rootABC)\n",
    "print(\"TapTweak:\", taptweak.hex())\n",
    "\n",
    "# 4) Derive the segwit output address.\n",
    "taproot_pubkey_b = internal_pubkey.tweak_add(taptweak).get_bytes()\n",
    "taproot_pubkey_v1 = bytes([taproot_pubkey_b[0] & 1]) + taproot_pubkey_b[1:]\n",
    "segwit_address = program_to_witness(1, taproot_pubkey_v1)\n",
    "print('Segwit address:', segwit_address)\n"
   ]
  },
  {
   "cell_type": "markdown",
   "metadata": {},
   "source": [
    "## 2.4 Spending a Tweaked Pubkey Output (Taproot Key Path Spend)\n",
    "\n",
    "Now that we have understood how public keys can be tweaked with tweaks, which commit locking scripts to the Segwit version 1 output, it is important to note that one can still choose to spend the output without revealing any commitments, just like in the previous chapter. To do so, we simply tweak the signing key with our TapTweak.\n",
    "\n",
    "* 1. Construct taproot output with tweaked public key.\n",
    "* 2. Send funds from the wallet to the taproot output (Segwit Address).\n",
    "* 3. Create and sign transaction which sends funds back to wallet with the tweaked private key.\n"
   ]
  },
  {
   "cell_type": "markdown",
   "metadata": {},
   "source": [
    "**Start TestNodes**"
   ]
  },
  {
   "cell_type": "code",
   "execution_count": null,
   "metadata": {},
   "outputs": [],
   "source": [
    "# Start TestNodes.\n",
    "from test_framework.test_wrapper import TestWrapper\n",
    "test = TestWrapper()\n",
    "test.setup()"
   ]
  },
  {
   "cell_type": "markdown",
   "metadata": {},
   "source": [
    "**Generate Wallet Balance**"
   ]
  },
  {
   "cell_type": "code",
   "execution_count": null,
   "metadata": {},
   "outputs": [],
   "source": [
    "# Generate Coins for Bitcoin Node Wallet.\n",
    "test.nodes[0].generate(101)\n",
    "balance = test.nodes[0].getbalance()\n",
    "print(balance)"
   ]
  },
  {
   "cell_type": "markdown",
   "metadata": {},
   "source": [
    "**1) Construct taproot output with tweaked public key.**"
   ]
  },
  {
   "cell_type": "code",
   "execution_count": null,
   "metadata": {},
   "outputs": [],
   "source": [
    "# Create Tweaked Pubkey Output.\n",
    "from test_framework.address import program_to_witness\n",
    "from test_framework.messages import CTransaction, COutPoint, CTxIn, CTxOut, CScriptWitness, CTxInWitness\n",
    "from test_framework.script import  CScript, OP_1, TaprootSignatureHash\n",
    "from test_framework.key import ECKey, ECPubKey\n",
    "from io import BytesIO\n",
    "\n",
    "sec = ECKey()\n",
    "sec.generate()\n",
    "internal_pubkey = sec.get_pubkey()\n",
    "\n",
    "# Taptweak from example 2.3.1\n",
    "taptweak = bytes.fromhex('2bb739ca44084c3c12479fdab02549884b2c950065894206bfb7bc61e17d8ad7')\n",
    "taproot_pubkey = internal_pubkey.tweak_add(taptweak) \n",
    "taproot_pubkey_b = taproot_pubkey.get_bytes()\n",
    "\n",
    "taproot_pubkey_v1 = bytes([taproot_pubkey_b[0] & 1]) + taproot_pubkey_b[1:]\n",
    "segwit_address = program_to_witness(1, taproot_pubkey_v1)\n",
    "print(\"Segwit Address:\", segwit_address)"
   ]
  },
  {
   "cell_type": "markdown",
   "metadata": {},
   "source": [
    "**2) Send funds from the wallet to the taproot output (Segwit Address).**"
   ]
  },
  {
   "cell_type": "code",
   "execution_count": null,
   "metadata": {},
   "outputs": [],
   "source": [
    "# Send funds to taproot output.\n",
    "txid = test.nodes[0].sendtoaddress(segwit_address, balance / 100000)\n",
    "print(\"Funding tx:\", txid)\n",
    "\n",
    "# Deserialize wallet transaction.\n",
    "tx = CTransaction()\n",
    "tx_hex = test.nodes[0].getrawtransaction(txid)\n",
    "tx.deserialize(BytesIO(bytes.fromhex(tx_hex)))\n",
    "tx.rehash()\n",
    "\n",
    "# Determine Output Index of Segwit V1 Output.\n",
    "# (Wallet places change output at a random txout index.)\n",
    "index = 0\n",
    "outputs = tx.vout\n",
    "output = outputs[index]\n",
    "while (output.scriptPubKey != CScript([OP_1, taproot_pubkey_v1])):\n",
    "    index += 1\n",
    "    output = outputs[index]\n",
    "output_value = output.nValue"
   ]
  },
  {
   "cell_type": "markdown",
   "metadata": {},
   "source": [
    "**3) Spend taproot output with key path.**"
   ]
  },
  {
   "cell_type": "code",
   "execution_count": null,
   "metadata": {},
   "outputs": [],
   "source": [
    "tx_schnorr = CTransaction()\n",
    "tx_schnorr.nVersion = 1\n",
    "tx_schnorr.nLockTime = 0\n",
    "outpoint = COutPoint(tx.sha256, index)\n",
    "tx_schnorr_in = CTxIn(outpoint = outpoint)\n",
    "tx_schnorr.vin = [tx_schnorr_in]\n",
    "\n",
    "# Generate new Bitcoin Core wallet address to send funds back to.\n",
    "dest_addr = test.nodes[0].getnewaddress(address_type=\"bech32\")\n",
    "scriptpubkey = bytes.fromhex(test.nodes[0].getaddressinfo(dest_addr)['scriptPubKey'])\n",
    "\n",
    "# Determine minimum fee required for mempool acceptance.\n",
    "min_fee = int(test.nodes[0].getmempoolinfo()['mempoolminfee'] * 100000000)\n",
    "\n",
    "# Complete output which returns funds to Bitcoin Core wallet.\n",
    "dest_output= CTxOut(nValue=output_value-min_fee, scriptPubKey=scriptpubkey)\n",
    "tx_schnorr.vout = [dest_output]\n",
    "\n",
    "# Sign transaction with tweaked public key.\n",
    "hash_types = [0,1,2,3,0x81,0x82,0x83]\n",
    "sighash = TaprootSignatureHash(tx_schnorr, [output], hash_types[0])\n",
    "tweaked_sec = sec.add(taptweak)\n",
    "sig = tweaked_sec.sign_schnorr(sighash)\n",
    "\n",
    "# Construct transaction witness.\n",
    "witness = CScriptWitness()\n",
    "witness.stack.append(sig)\n",
    "witness_in = CTxInWitness()\n",
    "witness_in.scriptWitness = witness\n",
    "tx_schnorr.wit.vtxinwit.append(witness_in)\n",
    "\n",
    "# Serialize Schnorr transaction for broadcast.\n",
    "tx_schnorr_str = tx_schnorr.serialize().hex()\n",
    "\n",
    "# Test mempool acceptance.\n",
    "print(test.nodes[0].testmempoolaccept([tx_schnorr_str]))\n"
   ]
  },
  {
   "cell_type": "markdown",
   "metadata": {},
   "source": [
    "**Shutdown TestNodes**"
   ]
  },
  {
   "cell_type": "code",
   "execution_count": null,
   "metadata": {},
   "outputs": [],
   "source": [
    "# Shutdown TestNodes.\n",
    "test.shutdown()"
   ]
  }
 ],
 "metadata": {
  "kernelspec": {
   "display_name": "Python 3",
   "language": "python",
   "name": "python3"
  },
  "language_info": {
   "codemirror_mode": {
    "name": "ipython",
    "version": 3
   },
   "file_extension": ".py",
   "mimetype": "text/x-python",
   "name": "python",
   "nbconvert_exporter": "python",
   "pygments_lexer": "ipython3",
   "version": "3.6.5"
  }
 },
 "nbformat": 4,
 "nbformat_minor": 2
}
